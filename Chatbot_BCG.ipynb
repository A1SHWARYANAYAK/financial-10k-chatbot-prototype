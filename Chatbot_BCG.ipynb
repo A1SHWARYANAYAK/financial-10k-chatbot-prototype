{
 "cells": [
  {
   "cell_type": "markdown",
   "id": "afc02b06-7a40-44f8-9e91-240998697eeb",
   "metadata": {},
   "source": [
    "# Financial Chatbot Prototype (Notebook)\n",
    "\n",
    "This notebook builds a simplified chatbot that answers a few **predefined queries** \n",
    "about Microsoft, Tesla, and Apple using the CSV you built in Task 1.  \n",
    "\n",
    "**Features**\n",
    "- Loads `10K_key_financials_MSFT_TSLA_AAPL.csv`\n",
    "- Computes YoY growth, leverage, and cash conversion\n",
    "- Answers fixed queries like:\n",
    "  - *What is the latest total revenue by company?*\n",
    "  - *How has net income changed over the last year?*\n",
    "  - *Which company has the strongest cash conversion?*\n",
    "  - *What is the leverage ratio last year?*\n",
    "  - *What is the 3-year revenue sum by company?*\n",
    "  - *Show summary*"
   ]
  },
  {
   "cell_type": "code",
   "execution_count": 3,
   "id": "8750814d-1640-4525-bf2f-91e541698d21",
   "metadata": {},
   "outputs": [
    {
     "name": "stderr",
     "output_type": "stream",
     "text": [
      "/var/folders/6b/hcmgcg951v75_fd0v_wnwk640000gn/T/ipykernel_92101/4218334254.py:17: FutureWarning: The default fill_method='ffill' in SeriesGroupBy.pct_change is deprecated and will be removed in a future version. Either fill in any non-leading NA values prior to calling pct_change or specify 'fill_method=None' to not fill NA values.\n",
      "  df[\"Revenue Growth (%)\"]    = df.groupby(\"Company\")[\"Total Revenue\"].pct_change()*100\n",
      "/var/folders/6b/hcmgcg951v75_fd0v_wnwk640000gn/T/ipykernel_92101/4218334254.py:18: FutureWarning: The default fill_method='ffill' in SeriesGroupBy.pct_change is deprecated and will be removed in a future version. Either fill in any non-leading NA values prior to calling pct_change or specify 'fill_method=None' to not fill NA values.\n",
      "  df[\"Net Income Growth (%)\"] = df.groupby(\"Company\")[\"Net Income\"].pct_change()*100\n",
      "/var/folders/6b/hcmgcg951v75_fd0v_wnwk640000gn/T/ipykernel_92101/4218334254.py:19: FutureWarning: The default fill_method='ffill' in SeriesGroupBy.pct_change is deprecated and will be removed in a future version. Either fill in any non-leading NA values prior to calling pct_change or specify 'fill_method=None' to not fill NA values.\n",
      "  df[\"CFO Growth (%)\"]        = df.groupby(\"Company\")[\"CFO\"].pct_change()*100\n"
     ]
    },
    {
     "data": {
      "text/html": [
       "<div>\n",
       "<style scoped>\n",
       "    .dataframe tbody tr th:only-of-type {\n",
       "        vertical-align: middle;\n",
       "    }\n",
       "\n",
       "    .dataframe tbody tr th {\n",
       "        vertical-align: top;\n",
       "    }\n",
       "\n",
       "    .dataframe thead th {\n",
       "        text-align: right;\n",
       "    }\n",
       "</style>\n",
       "<table border=\"1\" class=\"dataframe\">\n",
       "  <thead>\n",
       "    <tr style=\"text-align: right;\">\n",
       "      <th></th>\n",
       "      <th>Company</th>\n",
       "      <th>Fiscal Year</th>\n",
       "      <th>Total Revenue</th>\n",
       "      <th>Net Income</th>\n",
       "      <th>Total Assets</th>\n",
       "      <th>Total Liabilities</th>\n",
       "      <th>CFO</th>\n",
       "      <th>Revenue Growth (%)</th>\n",
       "      <th>Net Income Growth (%)</th>\n",
       "      <th>CFO Growth (%)</th>\n",
       "      <th>Leverage (Liab/Assets)</th>\n",
       "      <th>Cash Conversion (CFO/NI)</th>\n",
       "    </tr>\n",
       "  </thead>\n",
       "  <tbody>\n",
       "    <tr>\n",
       "      <th>0</th>\n",
       "      <td>Apple</td>\n",
       "      <td>2022</td>\n",
       "      <td>NaN</td>\n",
       "      <td>NaN</td>\n",
       "      <td>NaN</td>\n",
       "      <td>NaN</td>\n",
       "      <td>NaN</td>\n",
       "      <td>NaN</td>\n",
       "      <td>NaN</td>\n",
       "      <td>NaN</td>\n",
       "      <td>NaN</td>\n",
       "      <td>NaN</td>\n",
       "    </tr>\n",
       "    <tr>\n",
       "      <th>1</th>\n",
       "      <td>Apple</td>\n",
       "      <td>2023</td>\n",
       "      <td>NaN</td>\n",
       "      <td>NaN</td>\n",
       "      <td>NaN</td>\n",
       "      <td>NaN</td>\n",
       "      <td>NaN</td>\n",
       "      <td>NaN</td>\n",
       "      <td>NaN</td>\n",
       "      <td>NaN</td>\n",
       "      <td>NaN</td>\n",
       "      <td>NaN</td>\n",
       "    </tr>\n",
       "    <tr>\n",
       "      <th>2</th>\n",
       "      <td>Apple</td>\n",
       "      <td>2024</td>\n",
       "      <td>NaN</td>\n",
       "      <td>NaN</td>\n",
       "      <td>NaN</td>\n",
       "      <td>NaN</td>\n",
       "      <td>NaN</td>\n",
       "      <td>NaN</td>\n",
       "      <td>NaN</td>\n",
       "      <td>NaN</td>\n",
       "      <td>NaN</td>\n",
       "      <td>NaN</td>\n",
       "    </tr>\n",
       "    <tr>\n",
       "      <th>3</th>\n",
       "      <td>Microsoft</td>\n",
       "      <td>2022</td>\n",
       "      <td>NaN</td>\n",
       "      <td>72738.0</td>\n",
       "      <td>364840.0</td>\n",
       "      <td>198298.0</td>\n",
       "      <td>89035.0</td>\n",
       "      <td>NaN</td>\n",
       "      <td>NaN</td>\n",
       "      <td>NaN</td>\n",
       "      <td>0.54352</td>\n",
       "      <td>1.224051</td>\n",
       "    </tr>\n",
       "    <tr>\n",
       "      <th>4</th>\n",
       "      <td>Microsoft</td>\n",
       "      <td>2023</td>\n",
       "      <td>211915.0</td>\n",
       "      <td>72361.0</td>\n",
       "      <td>411976.0</td>\n",
       "      <td>205753.0</td>\n",
       "      <td>87582.0</td>\n",
       "      <td>NaN</td>\n",
       "      <td>-0.518299</td>\n",
       "      <td>-1.631942</td>\n",
       "      <td>0.49943</td>\n",
       "      <td>1.210348</td>\n",
       "    </tr>\n",
       "  </tbody>\n",
       "</table>\n",
       "</div>"
      ],
      "text/plain": [
       "     Company  Fiscal Year  Total Revenue  Net Income  Total Assets  \\\n",
       "0      Apple         2022            NaN         NaN           NaN   \n",
       "1      Apple         2023            NaN         NaN           NaN   \n",
       "2      Apple         2024            NaN         NaN           NaN   \n",
       "3  Microsoft         2022            NaN     72738.0      364840.0   \n",
       "4  Microsoft         2023       211915.0     72361.0      411976.0   \n",
       "\n",
       "   Total Liabilities      CFO  Revenue Growth (%)  Net Income Growth (%)  \\\n",
       "0                NaN      NaN                 NaN                    NaN   \n",
       "1                NaN      NaN                 NaN                    NaN   \n",
       "2                NaN      NaN                 NaN                    NaN   \n",
       "3           198298.0  89035.0                 NaN                    NaN   \n",
       "4           205753.0  87582.0                 NaN              -0.518299   \n",
       "\n",
       "   CFO Growth (%)  Leverage (Liab/Assets)  Cash Conversion (CFO/NI)  \n",
       "0             NaN                     NaN                       NaN  \n",
       "1             NaN                     NaN                       NaN  \n",
       "2             NaN                     NaN                       NaN  \n",
       "3             NaN                 0.54352                  1.224051  \n",
       "4       -1.631942                 0.49943                  1.210348  "
      ]
     },
     "execution_count": 3,
     "metadata": {},
     "output_type": "execute_result"
    }
   ],
   "source": [
    "# 1) Load data (using your fixed path) and compute derived metrics\n",
    "\n",
    "from pathlib import Path\n",
    "import pandas as pd\n",
    "import numpy as np\n",
    "\n",
    "CSV_PATH = Path(\"/Users/aish/10K_key_financials_MSFT_TSLA_AAPL.csv\")\n",
    "\n",
    "df = pd.read_csv(CSV_PATH)\n",
    "\n",
    "# Coerce numerics\n",
    "for c in [\"Fiscal Year\",\"Total Revenue\",\"Net Income\",\"Total Assets\",\"Total Liabilities\",\"CFO\"]:\n",
    "    df[c] = pd.to_numeric(df[c], errors=\"coerce\")\n",
    "\n",
    "# Sort and derive metrics\n",
    "df = df.sort_values([\"Company\",\"Fiscal Year\"]).reset_index(drop=True)\n",
    "df[\"Revenue Growth (%)\"]    = df.groupby(\"Company\")[\"Total Revenue\"].pct_change()*100\n",
    "df[\"Net Income Growth (%)\"] = df.groupby(\"Company\")[\"Net Income\"].pct_change()*100\n",
    "df[\"CFO Growth (%)\"]        = df.groupby(\"Company\")[\"CFO\"].pct_change()*100\n",
    "df[\"Leverage (Liab/Assets)\"]   = df[\"Total Liabilities\"] / df[\"Total Assets\"]\n",
    "df[\"Cash Conversion (CFO/NI)\"] = df[\"CFO\"] / df[\"Net Income\"]\n",
    "\n",
    "df.head()"
   ]
  },
  {
   "cell_type": "markdown",
   "id": "d7add73b-4679-45d7-9224-fa87ba3fb739",
   "metadata": {},
   "source": [
    "## Helper functions\n",
    "Utilities to format numbers and grab latest-year rows per company."
   ]
  },
  {
   "cell_type": "code",
   "execution_count": 4,
   "id": "a18a8a11-e9b7-46d1-95bb-630fe987c45a",
   "metadata": {},
   "outputs": [],
   "source": [
    "import math\n",
    "\n",
    "def latest_year_rows(df: pd.DataFrame) -> pd.DataFrame:\n",
    "    latest = df.groupby(\"Company\")[\"Fiscal Year\"].max().rename(\"LatestFY\")\n",
    "    out = df.merge(latest, on=\"Company\")\n",
    "    return out[out[\"Fiscal Year\"] == out[\"LatestFY\"]].copy()\n",
    "\n",
    "def fmt_money(x):\n",
    "    return \"N/A\" if pd.isna(x) else f\"${x:,.0f}M\"\n",
    "\n",
    "def fmt_pct(x):\n",
    "    return \"N/A\" if pd.isna(x) else f\"{x:.1f}%\"\n",
    "\n",
    "def safe_ratio(x):\n",
    "    return \"N/A\" if pd.isna(x) else f\"{x:.2f}\"\n",
    "\n",
    "def yoy(df: pd.DataFrame, col: str) -> pd.DataFrame:\n",
    "    latest = latest_year_rows(df)[[\"Company\",\"Fiscal Year\",f\"{col} Growth (%)\"]]\n",
    "    return latest.rename(columns={f\"{col} Growth (%)\":\"YoY (%)\"})\n",
    "\n",
    "def three_year_sum(df: pd.DataFrame, col: str) -> pd.DataFrame:\n",
    "    s = df.groupby(\"Company\")[col].sum(min_count=1).rename(\"3-yr Sum\")\n",
    "    return s.reset_index()\n"
   ]
  },
  {
   "cell_type": "code",
   "execution_count": 7,
   "id": "4eae2804-0ac3-4e55-a9cf-ed90087d8f43",
   "metadata": {},
   "outputs": [],
   "source": [
    "# --- Patch: align growth-column names with metric names ---\n",
    "\n",
    "GROWTH_COL = {\n",
    "    \"Total Revenue\": \"Revenue Growth (%)\",\n",
    "    \"Net Income\": \"Net Income Growth (%)\",\n",
    "    \"CFO\": \"CFO Growth (%)\",\n",
    "}\n",
    "\n",
    "def yoy(df: pd.DataFrame, col: str) -> pd.DataFrame:\n",
    "    \"\"\"Return the latest YoY % for a given metric name (e.g., 'Total Revenue', 'Net Income', 'CFO').\"\"\"\n",
    "    growth_col = GROWTH_COL.get(col)\n",
    "    if growth_col is None or growth_col not in df.columns:\n",
    "        raise KeyError(f\"Growth column for '{col}' not found. Expected one of: {list(GROWTH_COL.values())}\")\n",
    "    latest = latest_year_rows(df)[[\"Company\", \"Fiscal Year\", growth_col]]\n",
    "    return latest.rename(columns={growth_col: \"YoY (%)\"})"
   ]
  },
  {
   "cell_type": "markdown",
   "id": "cedc3dd3-b5c3-433a-ac5b-5973f6b5dc27",
   "metadata": {},
   "source": [
    "## Chatbot logic\n",
    "Exact matches first, then a simple case-insensitive contains fallback."
   ]
  },
  {
   "cell_type": "code",
   "execution_count": 10,
   "id": "e1d540ae-ac19-4587-adbf-045ad446d468",
   "metadata": {},
   "outputs": [],
   "source": [
    "# Supported queries\n",
    "PREDEFINED = {\n",
    "    \"What is the latest total revenue by company?\": \"latest_revenue\",\n",
    "    \"How has net income changed over the last year?\": \"net_income_yoy\",\n",
    "    \"Which company has the strongest cash conversion?\": \"best_cash_conversion\",\n",
    "    \"What is the leverage ratio last year?\": \"latest_leverage\",\n",
    "    \"What is the 3-year revenue sum by company?\": \"revenue_sum_3yr\",\n",
    "    \"Show summary\": \"show_summary\",\n",
    "    \"help\": \"help\",\n",
    "}\n",
    "\n",
    "# Answer functions\n",
    "# --- FIX: use iterrows() instead of itertuples() so r['col'] works ---\n",
    "\n",
    "def answer_latest_revenue(df):\n",
    "    lt = latest_year_rows(df)[[\"Company\",\"Fiscal Year\",\"Total Revenue\"]]\n",
    "    lines = []\n",
    "    for _, r in lt.iterrows():\n",
    "        lines.append(f\"{r['Company']} FY{int(r['Fiscal Year'])}: {fmt_money(r['Total Revenue'])}\")\n",
    "    return \"Latest total revenue by company:\\n- \" + \"\\n- \".join(lines)\n",
    "\n",
    "def answer_net_income_yoy(df):\n",
    "    y = yoy(df, \"Net Income\")\n",
    "    lines = []\n",
    "    for _, r in y.iterrows():\n",
    "        lines.append(f\"{r['Company']} FY{int(r['Fiscal Year'])}: {fmt_pct(r['YoY (%)'])}\")\n",
    "    return \"Net income YoY change (latest FY):\\n- \" + \"\\n- \".join(lines)\n",
    "\n",
    "def answer_best_cash_conversion(df):\n",
    "    lt = latest_year_rows(df)[[\"Company\",\"Fiscal Year\",\"Cash Conversion (CFO/NI)\",\"CFO\",\"Net Income\"]]\n",
    "    lt = lt.sort_values(\"Cash Conversion (CFO/NI)\", ascending=False)\n",
    "    best = lt.iloc[0]\n",
    "    return (\n",
    "        \"Strongest cash conversion (CFO/NI, latest FY):\\n\"\n",
    "        f\"- {best['Company']} FY{int(best['Fiscal Year'])}: \"\n",
    "        f\"{safe_ratio(best['Cash Conversion (CFO/NI)'])} \"\n",
    "        f\"(CFO {fmt_money(best['CFO'])} vs NI {fmt_money(best['Net Income'])})\"\n",
    "    )\n",
    "\n",
    "def answer_latest_leverage(df):\n",
    "    lt = latest_year_rows(df)[[\"Company\",\"Fiscal Year\",\"Leverage (Liab/Assets)\",\"Total Liabilities\",\"Total Assets\"]]\n",
    "    lines = []\n",
    "    for _, r in lt.iterrows():\n",
    "        lines.append(\n",
    "            f\"{r['Company']} FY{int(r['Fiscal Year'])}: \"\n",
    "            f\"{safe_ratio(r['Leverage (Liab/Assets)'])} \"\n",
    "            f\"(Liab {fmt_money(r['Total Liabilities'])} / Assets {fmt_money(r['Total Assets'])})\"\n",
    "        )\n",
    "    return \"Leverage (Liabilities/Assets, latest FY):\\n- \" + \"\\n- \".join(lines)\n",
    "\n",
    "def answer_revenue_sum_3yr(df):\n",
    "    s = three_year_sum(df, \"Total Revenue\")\n",
    "    lines = []\n",
    "    for _, r in s.iterrows():\n",
    "        lines.append(f\"{r['Company']}: {fmt_money(r['3-yr Sum'])}\")\n",
    "    return \"3-year revenue sums:\\n- \" + \"\\n- \".join(lines)\n",
    "\n",
    "def answer_show_summary(df):\n",
    "    rev = yoy(df,\"Total Revenue\").set_index(\"Company\")[\"YoY (%)\"].to_dict()\n",
    "    ni  = yoy(df,\"Net Income\").set_index(\"Company\")[\"YoY (%)\"].to_dict()\n",
    "    cfo = yoy(df,\"CFO\").set_index(\"Company\")[\"YoY (%)\"].to_dict()\n",
    "    companies = sorted(df[\"Company\"].dropna().unique())\n",
    "    lines = []\n",
    "    for co in companies:\n",
    "        lines.append(\n",
    "            f\"{co}: Revenue {fmt_pct(rev.get(co))}, \"\n",
    "            f\"Net Income {fmt_pct(ni.get(co))}, \"\n",
    "            f\"CFO {fmt_pct(cfo.get(co))} (YoY, latest FY).\"\n",
    "        )\n",
    "    return \"Summary (YoY, latest FY):\\n- \" + \"\\n- \".join(lines)\n",
    "\n",
    "def help_text():\n",
    "    opts = [k for k in PREDEFINED.keys() if k != \"help\"]\n",
    "    return \"I can answer these predefined queries:\\n\" + \"\\n\".join(f\"- {o}\" for o in opts)\n",
    "\n",
    "DISPATCH = {\n",
    "    \"latest_revenue\":        answer_latest_revenue,\n",
    "    \"net_income_yoy\":        answer_net_income_yoy,\n",
    "    \"best_cash_conversion\":  answer_best_cash_conversion,\n",
    "    \"latest_leverage\":       answer_latest_leverage,\n",
    "    \"revenue_sum_3yr\":       answer_revenue_sum_3yr,\n",
    "    \"show_summary\":          answer_show_summary,\n",
    "    \"help\":                  lambda df: help_text(),\n",
    "}\n",
    "\n",
    "def ask(query: str) -> str:\n",
    "    # Exact match first\n",
    "    if query in PREDEFINED:\n",
    "        return DISPATCH[PREDEFINED[query]](df)\n",
    "    # Simple contains fallback (case-insensitive)\n",
    "    q = query.lower()\n",
    "    for key, tag in PREDEFINED.items():\n",
    "        if key != \"help\" and key.lower() in q:\n",
    "            return DISPATCH[tag](df)\n",
    "    return \"Sorry, I can only provide information on predefined queries. Type 'help' to see them.\"\n"
   ]
  },
  {
   "cell_type": "markdown",
   "id": "379b5b3d-d2e8-4354-bfad-0c2d2cff0c40",
   "metadata": {},
   "source": [
    "## Quick tests\n",
    "Run to verify responses for each predefined query."
   ]
  },
  {
   "cell_type": "code",
   "execution_count": 11,
   "id": "de09d26f-959f-4125-a615-3fe5e43669fb",
   "metadata": {},
   "outputs": [
    {
     "name": "stdout",
     "output_type": "stream",
     "text": [
      "Q: Show summary\n",
      "Summary (YoY, latest FY):\n",
      "- Apple: Revenue N/A, Net Income N/A, CFO N/A (YoY, latest FY).\n",
      "- Microsoft: Revenue 15.7%, Net Income 21.8%, CFO 35.4% (YoY, latest FY).\n",
      "- Tesla: Revenue 0.9%, Net Income -52.7%, CFO 12.6% (YoY, latest FY).\n",
      "--------------------------------------------------------------------------------\n",
      "Q: What is the latest total revenue by company?\n",
      "Latest total revenue by company:\n",
      "- Apple FY2024: N/A\n",
      "- Microsoft FY2024: $245,122M\n",
      "- Tesla FY2024: $97,690M\n",
      "--------------------------------------------------------------------------------\n",
      "Q: How has net income changed over the last year?\n",
      "Net income YoY change (latest FY):\n",
      "- Apple FY2024: N/A\n",
      "- Microsoft FY2024: 21.8%\n",
      "- Tesla FY2024: -52.7%\n",
      "--------------------------------------------------------------------------------\n",
      "Q: Which company has the strongest cash conversion?\n",
      "Strongest cash conversion (CFO/NI, latest FY):\n",
      "- Tesla FY2024: 2.10 (CFO $14,923M vs NI $7,091M)\n",
      "--------------------------------------------------------------------------------\n",
      "Q: What is the leverage ratio last year?\n",
      "Leverage (Liabilities/Assets, latest FY):\n",
      "- Apple FY2024: N/A (Liab N/A / Assets N/A)\n",
      "- Microsoft FY2024: 0.48 (Liab $243,686M / Assets $512,163M)\n",
      "- Tesla FY2024: 0.40 (Liab $48,453M / Assets $122,070M)\n",
      "--------------------------------------------------------------------------------\n",
      "Q: What is the 3-year revenue sum by company?\n",
      "3-year revenue sums:\n",
      "- Apple: N/A\n",
      "- Microsoft: $457,037M\n",
      "- Tesla: $275,925M\n",
      "--------------------------------------------------------------------------------\n"
     ]
    }
   ],
   "source": [
    "tests = [\n",
    "    \"Show summary\",\n",
    "    \"What is the latest total revenue by company?\",\n",
    "    \"How has net income changed over the last year?\",\n",
    "    \"Which company has the strongest cash conversion?\",\n",
    "    \"What is the leverage ratio last year?\",\n",
    "    \"What is the 3-year revenue sum by company?\",\n",
    "]\n",
    "for t in tests:\n",
    "    print(\"Q:\", t)\n",
    "    print(ask(t))\n",
    "    print(\"-\"*80)\n"
   ]
  },
  {
   "cell_type": "markdown",
   "id": "1de6ebf9-8d36-4f66-89dd-6d02ea88a168",
   "metadata": {},
   "source": [
    "## Interactive chat (in-notebook)\n",
    "Type a question (or `help`) and press Enter. Type `quit` to exit."
   ]
  },
  {
   "cell_type": "code",
   "execution_count": 12,
   "id": "874c1204-6bbe-4411-b933-bc065db9d7c6",
   "metadata": {},
   "outputs": [
    {
     "name": "stdin",
     "output_type": "stream",
     "text": [
      "Ask (or 'help' / 'quit'):  help\n"
     ]
    },
    {
     "name": "stdout",
     "output_type": "stream",
     "text": [
      "I can answer these predefined queries:\n",
      "- What is the latest total revenue by company?\n",
      "- How has net income changed over the last year?\n",
      "- Which company has the strongest cash conversion?\n",
      "- What is the leverage ratio last year?\n",
      "- What is the 3-year revenue sum by company?\n",
      "- Show summary\n",
      "\n"
     ]
    },
    {
     "name": "stdin",
     "output_type": "stream",
     "text": [
      "Ask (or 'help' / 'quit'):  Show Summary\n"
     ]
    },
    {
     "name": "stdout",
     "output_type": "stream",
     "text": [
      "Summary (YoY, latest FY):\n",
      "- Apple: Revenue N/A, Net Income N/A, CFO N/A (YoY, latest FY).\n",
      "- Microsoft: Revenue 15.7%, Net Income 21.8%, CFO 35.4% (YoY, latest FY).\n",
      "- Tesla: Revenue 0.9%, Net Income -52.7%, CFO 12.6% (YoY, latest FY).\n",
      "\n"
     ]
    },
    {
     "name": "stdin",
     "output_type": "stream",
     "text": [
      "Ask (or 'help' / 'quit'):  What is the latest total revenue by company?\n"
     ]
    },
    {
     "name": "stdout",
     "output_type": "stream",
     "text": [
      "Latest total revenue by company:\n",
      "- Apple FY2024: N/A\n",
      "- Microsoft FY2024: $245,122M\n",
      "- Tesla FY2024: $97,690M\n",
      "\n"
     ]
    },
    {
     "name": "stdin",
     "output_type": "stream",
     "text": [
      "Ask (or 'help' / 'quit'):  Apple revenue\n"
     ]
    },
    {
     "name": "stdout",
     "output_type": "stream",
     "text": [
      "Sorry, I can only provide information on predefined queries. Type 'help' to see them.\n",
      "\n"
     ]
    },
    {
     "name": "stdin",
     "output_type": "stream",
     "text": [
      "Ask (or 'help' / 'quit'):  How has net income changed over the last year?\n"
     ]
    },
    {
     "name": "stdout",
     "output_type": "stream",
     "text": [
      "Net income YoY change (latest FY):\n",
      "- Apple FY2024: N/A\n",
      "- Microsoft FY2024: 21.8%\n",
      "- Tesla FY2024: -52.7%\n",
      "\n"
     ]
    },
    {
     "name": "stdin",
     "output_type": "stream",
     "text": [
      "Ask (or 'help' / 'quit'):  Which company has the strongest cash conversion?\n"
     ]
    },
    {
     "name": "stdout",
     "output_type": "stream",
     "text": [
      "Strongest cash conversion (CFO/NI, latest FY):\n",
      "- Tesla FY2024: 2.10 (CFO $14,923M vs NI $7,091M)\n",
      "\n"
     ]
    },
    {
     "name": "stdin",
     "output_type": "stream",
     "text": [
      "Ask (or 'help' / 'quit'):  What is the leverage ratio last year?\n"
     ]
    },
    {
     "name": "stdout",
     "output_type": "stream",
     "text": [
      "Leverage (Liabilities/Assets, latest FY):\n",
      "- Apple FY2024: N/A (Liab N/A / Assets N/A)\n",
      "- Microsoft FY2024: 0.48 (Liab $243,686M / Assets $512,163M)\n",
      "- Tesla FY2024: 0.40 (Liab $48,453M / Assets $122,070M)\n",
      "\n"
     ]
    },
    {
     "name": "stdin",
     "output_type": "stream",
     "text": [
      "Ask (or 'help' / 'quit'):  What is the 3-year revenue sum by company?\n"
     ]
    },
    {
     "name": "stdout",
     "output_type": "stream",
     "text": [
      "3-year revenue sums:\n",
      "- Apple: N/A\n",
      "- Microsoft: $457,037M\n",
      "- Tesla: $275,925M\n",
      "\n"
     ]
    },
    {
     "name": "stdin",
     "output_type": "stream",
     "text": [
      "Ask (or 'help' / 'quit'):  help\n"
     ]
    },
    {
     "name": "stdout",
     "output_type": "stream",
     "text": [
      "I can answer these predefined queries:\n",
      "- What is the latest total revenue by company?\n",
      "- How has net income changed over the last year?\n",
      "- Which company has the strongest cash conversion?\n",
      "- What is the leverage ratio last year?\n",
      "- What is the 3-year revenue sum by company?\n",
      "- Show summary\n",
      "\n"
     ]
    },
    {
     "name": "stdin",
     "output_type": "stream",
     "text": [
      "Ask (or 'help' / 'quit'):  quit\n"
     ]
    },
    {
     "name": "stdout",
     "output_type": "stream",
     "text": [
      "Bye!\n"
     ]
    }
   ],
   "source": [
    "while True:\n",
    "    try:\n",
    "        user = input(\"Ask (or 'help' / 'quit'): \").strip()\n",
    "    except (EOFError, KeyboardInterrupt):\n",
    "        print(\"\\nBye!\")\n",
    "        break\n",
    "    if user.lower() in {\"quit\",\"exit\"}:\n",
    "        print(\"Bye!\")\n",
    "        break\n",
    "    print(ask(user))\n",
    "    print()\n"
   ]
  },
  {
   "cell_type": "markdown",
   "id": "cf3c8bd7-dc81-409e-9069-dab23cdcfcb4",
   "metadata": {},
   "source": [
    "## Short documentation\n",
    "\n",
    "**How it works.**  \n",
    "- Loads `10K_key_financials_MSFT_TSLA_AAPL.csv`.  \n",
    "- Computes YoY growth for Revenue, Net Income, and CFO; plus Leverage (Liab/Assets) and Cash Conversion (CFO/NI).  \n",
    "- Answers six predefined queries using simple matching (`ask(query)`).\n",
    "\n",
    "**Limitations.**  \n",
    "- Predefined questions only (no free-form NLP).  \n",
    "- Missing values (e.g., Apple if not yet filled) show as `N/A`.  \n",
    "- No authentication or persistence."
   ]
  }
 ],
 "metadata": {
  "kernelspec": {
   "display_name": "Python 3 (ipykernel)",
   "language": "python",
   "name": "python3"
  },
  "language_info": {
   "codemirror_mode": {
    "name": "ipython",
    "version": 3
   },
   "file_extension": ".py",
   "mimetype": "text/x-python",
   "name": "python",
   "nbconvert_exporter": "python",
   "pygments_lexer": "ipython3",
   "version": "3.13.5"
  }
 },
 "nbformat": 4,
 "nbformat_minor": 5
}
